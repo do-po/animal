{
 "cells": [
  {
   "cell_type": "code",
   "execution_count": 1,
   "metadata": {},
   "outputs": [],
   "source": [
    "import requests\n",
    "import pandas as pd"
   ]
  },
  {
   "cell_type": "code",
   "execution_count": 9,
   "metadata": {},
   "outputs": [
    {
     "name": "stdout",
     "output_type": "stream",
     "text": [
      "Failed to fetch data: 400\n",
      "{\"code\":-3,\"msg\":\"등록되지 않은 서비스 입니다.\"}\n",
      "\n",
      "Data saved to ./datasets/korea_animal_shelter_data.csv\n"
     ]
    }
   ],
   "source": [
    "# API 키 설정\n",
    "api_key = 'QE4On/Pe8v6OpXDfBjLWSgfdZ/wYMHFRGmS254j+tNCfgO7MrR5qLo5dmtd66TafLu1X7H7954A3wyV6kJYC6Q=='  # 발급받은 API 키로 교체\n",
    "\n",
    "# 기본 URL 설정\n",
    "base_url = 'https://api.odcloud.kr/api/15098931/v1/uddi:5c59d457-ffbd-4e4e-8d44-1a6c0f4d30d2'\n",
    "\n",
    "# 요청 파라미터 설정\n",
    "params = {\n",
    "    'serviceKey': api_key,\n",
    "    'page': 1,\n",
    "    'perPage': 1000,  # 한 페이지당 데이터 개수\n",
    "    '_type': 'json'\n",
    "}\n",
    "\n",
    "# 빈 리스트를 생성하여 데이터를 저장할 준비\n",
    "data_list = []\n",
    "\n",
    "# 페이지네이션을 통해 모든 페이지 데이터 요청\n",
    "while True:\n",
    "    response = requests.get(base_url, params=params, headers={'Authorization': api_key})\n",
    "    if response.status_code != 200:\n",
    "        print(f\"Failed to fetch data: {response.status_code}\")\n",
    "        print(response.text)  # 에러 메시지 확인\n",
    "        break\n",
    "\n",
    "    data = response.json()\n",
    "    \n",
    "    if 'data' not in data or not data['data']:\n",
    "        # 더 이상 데이터가 없으면 종료\n",
    "        break\n",
    "\n",
    "    # 데이터 리스트에 추가\n",
    "    data_list.extend(data['data'])\n",
    "    \n",
    "    # 다음 페이지로 이동\n",
    "    params['page'] += 1\n",
    "\n",
    "    # 현재 진행 상태 출력\n",
    "    print(f\"Fetched page {params['page']}\")\n",
    "\n",
    "# 데이터프레임으로 변환\n",
    "df = pd.DataFrame(data_list)\n",
    "\n",
    "# CSV 파일로 저장\n",
    "csv_path = './datasets/korea_animal_shelter_data.csv'\n",
    "df.to_csv(csv_path, index=False, encoding='utf-8-sig')\n",
    "\n",
    "print(f\"Data saved to {csv_path}\")\n"
   ]
  },
  {
   "cell_type": "code",
   "execution_count": null,
   "metadata": {},
   "outputs": [],
   "source": []
  }
 ],
 "metadata": {
  "kernelspec": {
   "display_name": "Python 3",
   "language": "python",
   "name": "python3"
  },
  "language_info": {
   "codemirror_mode": {
    "name": "ipython",
    "version": 3
   },
   "file_extension": ".py",
   "mimetype": "text/x-python",
   "name": "python",
   "nbconvert_exporter": "python",
   "pygments_lexer": "ipython3",
   "version": "3.12.2"
  }
 },
 "nbformat": 4,
 "nbformat_minor": 2
}
